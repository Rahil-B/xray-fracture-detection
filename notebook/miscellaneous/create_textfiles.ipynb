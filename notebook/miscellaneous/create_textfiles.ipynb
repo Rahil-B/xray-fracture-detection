{
 "cells": [
  {
   "cell_type": "code",
   "execution_count": 8,
   "metadata": {},
   "outputs": [],
   "source": [
    "import os\n",
    "\n",
    "train_dir = r'D:\\FYP\\dataset-yolov7\\images\\train'\n",
    "val_dir = r'D:\\FYP\\dataset-yolov7\\images\\valid'"
   ]
  },
  {
   "cell_type": "code",
   "execution_count": 6,
   "metadata": {},
   "outputs": [],
   "source": [
    "content = ''\n",
    "for fname in os.listdir(train_dir):\n",
    "    content += '/content/yolov7/dataset-yolov7/images/train/' + fname + '\\n'\n",
    "\n",
    "with open(\"train.txt\", \"w\") as f:    \n",
    "    f.write(content)"
   ]
  },
  {
   "cell_type": "code",
   "execution_count": 9,
   "metadata": {},
   "outputs": [],
   "source": [
    "content = ''\n",
    "for fname in os.listdir(val_dir):\n",
    "    content += '/content/yolov7/dataset-yolov7/images/valid/' + fname + '\\n'\n",
    "\n",
    "with open(\"val.txt\", \"w\") as f:\n",
    "    f.write(content)"
   ]
  }
 ],
 "metadata": {
  "kernelspec": {
   "display_name": "Python 3.10.5 64-bit",
   "language": "python",
   "name": "python3"
  },
  "language_info": {
   "codemirror_mode": {
    "name": "ipython",
    "version": 3
   },
   "file_extension": ".py",
   "mimetype": "text/x-python",
   "name": "python",
   "nbconvert_exporter": "python",
   "pygments_lexer": "ipython3",
   "version": "3.10.5"
  },
  "orig_nbformat": 4,
  "vscode": {
   "interpreter": {
    "hash": "7c2737f5cd3eb6a237b7123ce75c641d6f975db18b0c0702ad2055474d78171c"
   }
  }
 },
 "nbformat": 4,
 "nbformat_minor": 2
}
