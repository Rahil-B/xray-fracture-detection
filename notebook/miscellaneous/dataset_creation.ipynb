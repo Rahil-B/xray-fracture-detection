{
 "cells": [
  {
   "cell_type": "code",
   "execution_count": 1,
   "id": "edf1ecb0",
   "metadata": {},
   "outputs": [],
   "source": [
    "import torch\n",
    "from IPython.display import Image\n",
    "import os\n",
    "import shutil\n",
    "from random import choice\n",
    "import wandb"
   ]
  },
  {
   "cell_type": "code",
   "execution_count": 2,
   "id": "0cb839e7",
   "metadata": {},
   "outputs": [
    {
     "name": "stderr",
     "output_type": "stream",
     "text": [
      "Cloning into 'yolov5'...\n"
     ]
    }
   ],
   "source": [
    "# !git clone https://github.com/ultralytics/yolov5"
   ]
  },
  {
   "cell_type": "code",
   "execution_count": 2,
   "id": "b461b864",
   "metadata": {},
   "outputs": [
    {
     "name": "stdout",
     "output_type": "stream",
     "text": [
      "D:\\FYP\\Code\\yolov5\n"
     ]
    }
   ],
   "source": [
    "%cd yolov5"
   ]
  },
  {
   "cell_type": "code",
   "execution_count": 5,
   "id": "ea90f25b",
   "metadata": {},
   "outputs": [
    {
     "name": "stdout",
     "output_type": "stream",
     "text": [
      "Requirement already satisfied: matplotlib>=3.2.2 in c:\\users\\ammar\\appdata\\local\\programs\\python\\python310\\lib\\site-packages (from -r requirements.txt (line 5)) (3.5.1)\n",
      "Requirement already satisfied: numpy>=1.18.5 in c:\\users\\ammar\\appdata\\local\\programs\\python\\python310\\lib\\site-packages (from -r requirements.txt (line 6)) (1.22.4)\n",
      "Requirement already satisfied: opencv-python>=4.1.1 in c:\\users\\ammar\\appdata\\local\\programs\\python\\python310\\lib\\site-packages (from -r requirements.txt (line 7)) (4.6.0.66)\n",
      "Requirement already satisfied: Pillow>=7.1.2 in c:\\users\\ammar\\appdata\\local\\programs\\python\\python310\\lib\\site-packages (from -r requirements.txt (line 8)) (9.0.1)\n",
      "Requirement already satisfied: PyYAML>=5.3.1 in c:\\users\\ammar\\appdata\\local\\programs\\python\\python310\\lib\\site-packages (from -r requirements.txt (line 9)) (6.0)\n",
      "Requirement already satisfied: requests>=2.23.0 in c:\\users\\ammar\\appdata\\local\\programs\\python\\python310\\lib\\site-packages (from -r requirements.txt (line 10)) (2.27.1)\n",
      "Requirement already satisfied: scipy>=1.4.1 in c:\\users\\ammar\\appdata\\local\\programs\\python\\python310\\lib\\site-packages (from -r requirements.txt (line 11)) (1.8.0)\n",
      "Requirement already satisfied: torch>=1.7.0 in c:\\users\\ammar\\appdata\\local\\programs\\python\\python310\\lib\\site-packages (from -r requirements.txt (line 12)) (1.11.0)\n",
      "Requirement already satisfied: torchvision>=0.8.1 in c:\\users\\ammar\\appdata\\local\\programs\\python\\python310\\lib\\site-packages (from -r requirements.txt (line 13)) (0.12.0)\n",
      "Requirement already satisfied: tqdm>=4.64.0 in c:\\users\\ammar\\appdata\\local\\programs\\python\\python310\\lib\\site-packages (from -r requirements.txt (line 14)) (4.64.0)\n",
      "Requirement already satisfied: protobuf<=3.20.1 in c:\\users\\ammar\\appdata\\local\\programs\\python\\python310\\lib\\site-packages (from -r requirements.txt (line 15)) (3.19.4)\n",
      "Requirement already satisfied: tensorboard>=2.4.1 in c:\\users\\ammar\\appdata\\local\\programs\\python\\python310\\lib\\site-packages (from -r requirements.txt (line 18)) (2.9.1)\n",
      "Requirement already satisfied: pandas>=1.1.4 in c:\\users\\ammar\\appdata\\local\\programs\\python\\python310\\lib\\site-packages (from -r requirements.txt (line 22)) (1.4.1)\n",
      "Requirement already satisfied: seaborn>=0.11.0 in c:\\users\\ammar\\appdata\\local\\programs\\python\\python310\\lib\\site-packages (from -r requirements.txt (line 23)) (0.11.2)\n",
      "Requirement already satisfied: ipython in c:\\users\\ammar\\appdata\\roaming\\python\\python310\\site-packages (from -r requirements.txt (line 37)) (8.1.1)\n",
      "Requirement already satisfied: psutil in c:\\users\\ammar\\appdata\\local\\programs\\python\\python310\\lib\\site-packages (from -r requirements.txt (line 38)) (5.9.1)\n",
      "Requirement already satisfied: thop>=0.1.1 in c:\\users\\ammar\\appdata\\local\\programs\\python\\python310\\lib\\site-packages (from -r requirements.txt (line 39)) (0.1.1.post2207130030)\n",
      "Requirement already satisfied: packaging>=20.0 in c:\\users\\ammar\\appdata\\local\\programs\\python\\python310\\lib\\site-packages (from matplotlib>=3.2.2->-r requirements.txt (line 5)) (21.3)\n",
      "Requirement already satisfied: cycler>=0.10 in c:\\users\\ammar\\appdata\\local\\programs\\python\\python310\\lib\\site-packages (from matplotlib>=3.2.2->-r requirements.txt (line 5)) (0.11.0)\n",
      "Requirement already satisfied: kiwisolver>=1.0.1 in c:\\users\\ammar\\appdata\\local\\programs\\python\\python310\\lib\\site-packages (from matplotlib>=3.2.2->-r requirements.txt (line 5)) (1.4.0)\n",
      "Requirement already satisfied: python-dateutil>=2.7 in c:\\users\\ammar\\appdata\\local\\programs\\python\\python310\\lib\\site-packages (from matplotlib>=3.2.2->-r requirements.txt (line 5)) (2.8.2)\n",
      "Requirement already satisfied: fonttools>=4.22.0 in c:\\users\\ammar\\appdata\\local\\programs\\python\\python310\\lib\\site-packages (from matplotlib>=3.2.2->-r requirements.txt (line 5)) (4.31.1)\n",
      "Requirement already satisfied: pyparsing>=2.2.1 in c:\\users\\ammar\\appdata\\local\\programs\\python\\python310\\lib\\site-packages (from matplotlib>=3.2.2->-r requirements.txt (line 5)) (3.0.7)\n",
      "Requirement already satisfied: urllib3<1.27,>=1.21.1 in c:\\users\\ammar\\appdata\\local\\programs\\python\\python310\\lib\\site-packages (from requests>=2.23.0->-r requirements.txt (line 10)) (1.26.11)\n",
      "Requirement already satisfied: idna<4,>=2.5 in c:\\users\\ammar\\appdata\\local\\programs\\python\\python310\\lib\\site-packages (from requests>=2.23.0->-r requirements.txt (line 10)) (3.3)\n",
      "Requirement already satisfied: certifi>=2017.4.17 in c:\\users\\ammar\\appdata\\local\\programs\\python\\python310\\lib\\site-packages (from requests>=2.23.0->-r requirements.txt (line 10)) (2021.10.8)\n",
      "Requirement already satisfied: charset-normalizer~=2.0.0 in c:\\users\\ammar\\appdata\\local\\programs\\python\\python310\\lib\\site-packages (from requests>=2.23.0->-r requirements.txt (line 10)) (2.0.12)\n",
      "Requirement already satisfied: typing-extensions in c:\\users\\ammar\\appdata\\local\\programs\\python\\python310\\lib\\site-packages (from torch>=1.7.0->-r requirements.txt (line 12)) (4.2.0)\n",
      "Requirement already satisfied: colorama in c:\\users\\ammar\\appdata\\roaming\\python\\python310\\site-packages (from tqdm>=4.64.0->-r requirements.txt (line 14)) (0.4.4)\n",
      "Requirement already satisfied: tensorboard-data-server<0.7.0,>=0.6.0 in c:\\users\\ammar\\appdata\\local\\programs\\python\\python310\\lib\\site-packages (from tensorboard>=2.4.1->-r requirements.txt (line 18)) (0.6.1)\n",
      "Requirement already satisfied: tensorboard-plugin-wit>=1.6.0 in c:\\users\\ammar\\appdata\\local\\programs\\python\\python310\\lib\\site-packages (from tensorboard>=2.4.1->-r requirements.txt (line 18)) (1.8.1)\n",
      "Requirement already satisfied: google-auth-oauthlib<0.5,>=0.4.1 in c:\\users\\ammar\\appdata\\local\\programs\\python\\python310\\lib\\site-packages (from tensorboard>=2.4.1->-r requirements.txt (line 18)) (0.4.6)\n",
      "Requirement already satisfied: werkzeug>=1.0.1 in c:\\users\\ammar\\appdata\\local\\programs\\python\\python310\\lib\\site-packages (from tensorboard>=2.4.1->-r requirements.txt (line 18)) (2.1.2)\n",
      "Requirement already satisfied: grpcio>=1.24.3 in c:\\users\\ammar\\appdata\\local\\programs\\python\\python310\\lib\\site-packages (from tensorboard>=2.4.1->-r requirements.txt (line 18)) (1.46.3)\n",
      "Requirement already satisfied: google-auth<3,>=1.6.3 in c:\\users\\ammar\\appdata\\local\\programs\\python\\python310\\lib\\site-packages (from tensorboard>=2.4.1->-r requirements.txt (line 18)) (2.8.0)\n",
      "Requirement already satisfied: setuptools>=41.0.0 in c:\\users\\ammar\\appdata\\local\\programs\\python\\python310\\lib\\site-packages (from tensorboard>=2.4.1->-r requirements.txt (line 18)) (58.1.0)\n",
      "Requirement already satisfied: markdown>=2.6.8 in c:\\users\\ammar\\appdata\\local\\programs\\python\\python310\\lib\\site-packages (from tensorboard>=2.4.1->-r requirements.txt (line 18)) (3.3.7)\n",
      "Requirement already satisfied: absl-py>=0.4 in c:\\users\\ammar\\appdata\\local\\programs\\python\\python310\\lib\\site-packages (from tensorboard>=2.4.1->-r requirements.txt (line 18)) (1.1.0)\n",
      "Requirement already satisfied: wheel>=0.26 in c:\\users\\ammar\\appdata\\local\\programs\\python\\python310\\lib\\site-packages (from tensorboard>=2.4.1->-r requirements.txt (line 18)) (0.37.1)\n",
      "Requirement already satisfied: pytz>=2020.1 in c:\\users\\ammar\\appdata\\local\\programs\\python\\python310\\lib\\site-packages (from pandas>=1.1.4->-r requirements.txt (line 22)) (2021.3)\n",
      "Requirement already satisfied: prompt-toolkit!=3.0.0,!=3.0.1,<3.1.0,>=2.0.0 in c:\\users\\ammar\\appdata\\roaming\\python\\python310\\site-packages (from ipython->-r requirements.txt (line 37)) (3.0.28)\n",
      "Requirement already satisfied: pickleshare in c:\\users\\ammar\\appdata\\roaming\\python\\python310\\site-packages (from ipython->-r requirements.txt (line 37)) (0.7.5)\n",
      "Requirement already satisfied: traitlets>=5 in c:\\users\\ammar\\appdata\\local\\programs\\python\\python310\\lib\\site-packages (from ipython->-r requirements.txt (line 37)) (5.2.2.post1)\n",
      "Requirement already satisfied: pygments>=2.4.0 in c:\\users\\ammar\\appdata\\roaming\\python\\python310\\site-packages (from ipython->-r requirements.txt (line 37)) (2.11.2)\n",
      "Requirement already satisfied: matplotlib-inline in c:\\users\\ammar\\appdata\\roaming\\python\\python310\\site-packages (from ipython->-r requirements.txt (line 37)) (0.1.3)\n",
      "Requirement already satisfied: jedi>=0.16 in c:\\users\\ammar\\appdata\\roaming\\python\\python310\\site-packages (from ipython->-r requirements.txt (line 37)) (0.18.1)\n",
      "Requirement already satisfied: stack-data in c:\\users\\ammar\\appdata\\roaming\\python\\python310\\site-packages (from ipython->-r requirements.txt (line 37)) (0.2.0)\n",
      "Requirement already satisfied: backcall in c:\\users\\ammar\\appdata\\roaming\\python\\python310\\site-packages (from ipython->-r requirements.txt (line 37)) (0.2.0)\n",
      "Requirement already satisfied: decorator in c:\\users\\ammar\\appdata\\roaming\\python\\python310\\site-packages (from ipython->-r requirements.txt (line 37)) (5.1.1)\n",
      "Requirement already satisfied: pyasn1-modules>=0.2.1 in c:\\users\\ammar\\appdata\\local\\programs\\python\\python310\\lib\\site-packages (from google-auth<3,>=1.6.3->tensorboard>=2.4.1->-r requirements.txt (line 18)) (0.2.8)\n",
      "Requirement already satisfied: six>=1.9.0 in c:\\users\\ammar\\appdata\\local\\programs\\python\\python310\\lib\\site-packages (from google-auth<3,>=1.6.3->tensorboard>=2.4.1->-r requirements.txt (line 18)) (1.16.0)\n",
      "Requirement already satisfied: cachetools<6.0,>=2.0.0 in c:\\users\\ammar\\appdata\\local\\programs\\python\\python310\\lib\\site-packages (from google-auth<3,>=1.6.3->tensorboard>=2.4.1->-r requirements.txt (line 18)) (5.2.0)\n",
      "Requirement already satisfied: rsa<5,>=3.1.4 in c:\\users\\ammar\\appdata\\local\\programs\\python\\python310\\lib\\site-packages (from google-auth<3,>=1.6.3->tensorboard>=2.4.1->-r requirements.txt (line 18)) (4.8)\n",
      "Requirement already satisfied: requests-oauthlib>=0.7.0 in c:\\users\\ammar\\appdata\\local\\programs\\python\\python310\\lib\\site-packages (from google-auth-oauthlib<0.5,>=0.4.1->tensorboard>=2.4.1->-r requirements.txt (line 18)) (1.3.1)\n",
      "Requirement already satisfied: parso<0.9.0,>=0.8.0 in c:\\users\\ammar\\appdata\\roaming\\python\\python310\\site-packages (from jedi>=0.16->ipython->-r requirements.txt (line 37)) (0.8.3)\n",
      "Requirement already satisfied: wcwidth in c:\\users\\ammar\\appdata\\roaming\\python\\python310\\site-packages (from prompt-toolkit!=3.0.0,!=3.0.1,<3.1.0,>=2.0.0->ipython->-r requirements.txt (line 37)) (0.2.5)\n",
      "Requirement already satisfied: pure-eval in c:\\users\\ammar\\appdata\\roaming\\python\\python310\\site-packages (from stack-data->ipython->-r requirements.txt (line 37)) (0.2.2)\n",
      "Requirement already satisfied: asttokens in c:\\users\\ammar\\appdata\\roaming\\python\\python310\\site-packages (from stack-data->ipython->-r requirements.txt (line 37)) (2.0.5)\n",
      "Requirement already satisfied: executing in c:\\users\\ammar\\appdata\\roaming\\python\\python310\\site-packages (from stack-data->ipython->-r requirements.txt (line 37)) (0.8.3)\n",
      "Requirement already satisfied: pyasn1<0.5.0,>=0.4.6 in c:\\users\\ammar\\appdata\\local\\programs\\python\\python310\\lib\\site-packages (from pyasn1-modules>=0.2.1->google-auth<3,>=1.6.3->tensorboard>=2.4.1->-r requirements.txt (line 18)) (0.4.8)\n",
      "Requirement already satisfied: oauthlib>=3.0.0 in c:\\users\\ammar\\appdata\\local\\programs\\python\\python310\\lib\\site-packages (from requests-oauthlib>=0.7.0->google-auth-oauthlib<0.5,>=0.4.1->tensorboard>=2.4.1->-r requirements.txt (line 18)) (3.2.0)\n"
     ]
    }
   ],
   "source": [
    "!pip install -r requirements.txt"
   ]
  },
  {
   "cell_type": "code",
   "execution_count": 7,
   "id": "b136b62f",
   "metadata": {},
   "outputs": [
    {
     "name": "stdout",
     "output_type": "stream",
     "text": [
      "Training Samples: 14228, Testing Samples: 2032, Validation Samples: 4065\n"
     ]
    }
   ],
   "source": [
    "img_train_path = r'D:\\FYP\\Dataset\\folder_structure\\yolov5\\images\\train'\n",
    "img_test_path = r'D:\\FYP\\Dataset\\folder_structure\\yolov5\\images\\test'\n",
    "img_valid_path = r'D:\\FYP\\Dataset\\folder_structure\\yolov5\\images\\valid'\n",
    "img_label_path = r'D:\\FYP\\Dataset\\Images and labels'\n",
    "\n",
    "imgs = []\n",
    "vectors = []\n",
    "\n",
    "train_ratio = 0.7\n",
    "valid_ratio = 0.2\n",
    "test_ratio = 0.1\n",
    "\n",
    "for (dir_name, dirs, files) in os.walk(img_label_path):\n",
    "    for filename in files:\n",
    "        if filename.endswith('.txt'):\n",
    "            vectors.append(filename)\n",
    "        else:\n",
    "            imgs.append(filename)\n",
    "            \n",
    "num_train = int(len(imgs) * train_ratio)\n",
    "num_valid = int(len(imgs) * valid_ratio)\n",
    "num_test = int(len(imgs) * test_ratio)\n",
    "\n",
    "print(f'Training Samples: {num_train}, Testing Samples: {num_test}, Validation Samples: {num_valid}')"
   ]
  },
  {
   "cell_type": "code",
   "execution_count": 10,
   "id": "b4599e89",
   "metadata": {},
   "outputs": [],
   "source": [
    "label_train_path = r'D:\\FYP\\Dataset\\folder_structure\\yolov5\\labels\\train'\n",
    "label_valid_path = r'D:\\FYP\\Dataset\\folder_structure\\yolov5\\labels\\valid'\n",
    "label_test_path = r'D:\\FYP\\Dataset\\folder_structure\\yolov5\\labels\\test'\n",
    "\n",
    "for i in range(num_train):\n",
    "    img = choice(imgs)\n",
    "    xml = vectors[imgs.index(img)]\n",
    "    \n",
    "    shutil.copy(os.path.join(img_label_path, img), os.path.join(img_train_path, img))\n",
    "    shutil.copy(os.path.join(img_label_path, xml), os.path.join(label_train_path, xml))\n",
    "    \n",
    "    imgs.remove(img)\n",
    "    vectors.remove(xml)"
   ]
  },
  {
   "cell_type": "code",
   "execution_count": 11,
   "id": "fd111001",
   "metadata": {},
   "outputs": [],
   "source": [
    "for i in range(num_valid):\n",
    "    img = choice(imgs)\n",
    "    xml = vectors[imgs.index(img)]\n",
    "    \n",
    "    shutil.copy(os.path.join(img_label_path, img), os.path.join(img_valid_path, img))\n",
    "    shutil.copy(os.path.join(img_label_path, xml), os.path.join(label_valid_path, xml))\n",
    "    \n",
    "    imgs.remove(img)\n",
    "    vectors.remove(xml)\n",
    "    \n",
    "for i in range(num_test):\n",
    "    img = choice(imgs)\n",
    "    xml = vectors[imgs.index(img)]\n",
    "    \n",
    "    shutil.copy(os.path.join(img_label_path, img), os.path.join(img_test_path, img))\n",
    "    shutil.copy(os.path.join(img_label_path, xml), os.path.join(label_test_path, xml))\n",
    "    \n",
    "    imgs.remove(img)\n",
    "    vectors.remove(xml)"
   ]
  },
  {
   "cell_type": "code",
   "execution_count": 3,
   "id": "3c6604c1",
   "metadata": {},
   "outputs": [
    {
     "name": "stderr",
     "output_type": "stream",
     "text": [
      "\u001b[34m\u001b[1mwandb\u001b[0m: Currently logged in as: \u001b[33mammar68\u001b[0m. Use \u001b[1m`wandb login --relogin`\u001b[0m to force relogin\n"
     ]
    },
    {
     "data": {
      "text/plain": [
       "True"
      ]
     },
     "execution_count": 3,
     "metadata": {},
     "output_type": "execute_result"
    }
   ],
   "source": [
    "wandb.login()"
   ]
  },
  {
   "cell_type": "code",
   "execution_count": null,
   "id": "305f207e",
   "metadata": {},
   "outputs": [],
   "source": [
    "!python train.py --img 445 --batch 16 --epochs 30 --data meta.yaml --weights yolov5s.pt --cache"
   ]
  },
  {
   "cell_type": "code",
   "execution_count": null,
   "id": "94ebe915",
   "metadata": {},
   "outputs": [],
   "source": [
    "print('Trained')"
   ]
  },
  {
   "cell_type": "code",
   "execution_count": null,
   "id": "89817054",
   "metadata": {},
   "outputs": [],
   "source": []
  }
 ],
 "metadata": {
  "kernelspec": {
   "display_name": "Python 3 (ipykernel)",
   "language": "python",
   "name": "python3"
  },
  "language_info": {
   "codemirror_mode": {
    "name": "ipython",
    "version": 3
   },
   "file_extension": ".py",
   "mimetype": "text/x-python",
   "name": "python",
   "nbconvert_exporter": "python",
   "pygments_lexer": "ipython3",
   "version": "3.10.5"
  }
 },
 "nbformat": 4,
 "nbformat_minor": 5
}
