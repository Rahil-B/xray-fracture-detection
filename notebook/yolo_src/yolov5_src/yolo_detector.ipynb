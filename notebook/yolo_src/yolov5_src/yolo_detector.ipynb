{
 "cells": [
  {
   "cell_type": "code",
   "execution_count": 1,
   "id": "edf1ecb0",
   "metadata": {},
   "outputs": [],
   "source": [
    "import torch\n",
    "from IPython.display import Image\n",
    "import os\n",
    "import shutil\n",
    "from random import choice\n",
    "import wandb"
   ]
  },
  {
   "cell_type": "code",
   "execution_count": 2,
   "id": "0cb839e7",
   "metadata": {},
   "outputs": [
    {
     "name": "stderr",
     "output_type": "stream",
     "text": [
      "Cloning into 'yolov5'...\n"
     ]
    }
   ],
   "source": [
    "# !git clone https://github.com/ultralytics/yolov5"
   ]
  },
  {
   "cell_type": "code",
   "execution_count": 2,
   "id": "b461b864",
   "metadata": {},
   "outputs": [
    {
     "name": "stdout",
     "output_type": "stream",
     "text": [
      "D:\\FYP\\Code\\yolov5\n"
     ]
    }
   ],
   "source": [
    "%cd yolov5"
   ]
  },
  {
   "cell_type": "code",
   "execution_count": null,
   "id": "ea90f25b",
   "metadata": {},
   "outputs": [],
   "source": [
    "!pip install -r requirements.txt"
   ]
  },
  {
   "cell_type": "code",
   "execution_count": 3,
   "id": "b136b62f",
   "metadata": {},
   "outputs": [
    {
     "name": "stdout",
     "output_type": "stream",
     "text": [
      "40654\n",
      "Training Samples: 15245, Validation Samples: 4065, Test Samples: 1016\n",
      "20327 20327 40654\n"
     ]
    }
   ],
   "source": [
    "img_train_path = r\"D:\\Ammar's\\FYP_DATA\\Yolo Formatted Data (with test)\\images\\train\"\n",
    "img_test_path = r\"D:\\Ammar's\\FYP_DATA\\Yolo Formatted Data (with test)\\images\\test\"\n",
    "img_valid_path = r\"D:\\Ammar's\\FYP_DATA\\Yolo Formatted Data (with test)\\images\\val\"\n",
    "img_label_path = r\"D:\\Ammar's\\FYP_DATA\\images and labels together\"\n",
    "\n",
    "print(len(os.listdir(img_label_path)))\n",
    "\n",
    "imgs = []\n",
    "vectors = []\n",
    "\n",
    "train_ratio = 0.75\n",
    "valid_ratio = 0.2\n",
    "test_ratio = 0.05\n",
    "\n",
    "for (dir_name, dirs, files) in os.walk(img_label_path):\n",
    "    for filename in files:\n",
    "        if filename.endswith('.txt'):\n",
    "            vectors.append(filename)\n",
    "        else:\n",
    "            imgs.append(filename)\n",
    "            \n",
    "num_train = int(len(imgs) * train_ratio)\n",
    "num_valid = int(len(imgs) * valid_ratio)\n",
    "num_test = int(len(imgs) * test_ratio)\n",
    "\n",
    "print(f'Training Samples: {num_train}, Validation Samples: {num_valid}, Test Samples: {num_test}')\n",
    "print(len(imgs), len(vectors), str(len(imgs) + len(vectors)))"
   ]
  },
  {
   "cell_type": "code",
   "execution_count": 4,
   "id": "b4599e89",
   "metadata": {},
   "outputs": [
    {
     "name": "stderr",
     "output_type": "stream",
     "text": [
      "100%|██████████| 15245/15245 [09:40<00:00, 26.25it/s]\n"
     ]
    }
   ],
   "source": [
    "label_train_path = r\"D:\\Ammar's\\FYP_DATA\\Yolo Formatted Data (with test)\\labels\\train\"\n",
    "label_valid_path = r\"D:\\Ammar's\\FYP_DATA\\Yolo Formatted Data (with test)\\labels\\val\"\n",
    "label_test_path = r\"D:\\Ammar's\\FYP_DATA\\Yolo Formatted Data (with test)\\labels\\test\"\n",
    "\n",
    "import tqdm \n",
    "for i in tqdm.tqdm(range(num_train)):\n",
    "    img = choice(imgs)\n",
    "    xml = vectors[imgs.index(img)]\n",
    "    \n",
    "    shutil.copy(os.path.join(img_label_path, img), os.path.join(img_train_path, img))\n",
    "    shutil.copy(os.path.join(img_label_path, xml), os.path.join(label_train_path, xml))\n",
    "    \n",
    "    imgs.remove(img)\n",
    "    vectors.remove(xml)"
   ]
  },
  {
   "cell_type": "code",
   "execution_count": 5,
   "id": "fd111001",
   "metadata": {},
   "outputs": [
    {
     "name": "stderr",
     "output_type": "stream",
     "text": [
      "100%|██████████| 4065/4065 [02:06<00:00, 32.20it/s]\n"
     ]
    }
   ],
   "source": [
    "for i in tqdm.tqdm(range(num_valid)):\n",
    "    img = choice(imgs)\n",
    "    xml = vectors[imgs.index(img)]\n",
    "    \n",
    "    shutil.copy(os.path.join(img_label_path, img), os.path.join(img_valid_path, img))\n",
    "    shutil.copy(os.path.join(img_label_path, xml), os.path.join(label_valid_path, xml))\n",
    "    \n",
    "    imgs.remove(img)\n",
    "    vectors.remove(xml)\n",
    "    \n",
    "for i in range(num_test):\n",
    "    img = choice(imgs)\n",
    "    xml = vectors[imgs.index(img)]\n",
    "    \n",
    "    shutil.copy(os.path.join(img_label_path, img), os.path.join(img_test_path, img))\n",
    "    shutil.copy(os.path.join(img_label_path, xml), os.path.join(label_test_path, xml))\n",
    "    \n",
    "    imgs.remove(img)\n",
    "    vectors.remove(xml)"
   ]
  }
 ],
 "metadata": {
  "kernelspec": {
   "display_name": "Python 3.9.13 ('base')",
   "language": "python",
   "name": "python3"
  },
  "language_info": {
   "codemirror_mode": {
    "name": "ipython",
    "version": 3
   },
   "file_extension": ".py",
   "mimetype": "text/x-python",
   "name": "python",
   "nbconvert_exporter": "python",
   "pygments_lexer": "ipython3",
   "version": "3.9.13"
  },
  "vscode": {
   "interpreter": {
    "hash": "83272796f62e81b00bdf3dd4931e0859c6ce4b0f4439fe48670a93413eeb7f50"
   }
  }
 },
 "nbformat": 4,
 "nbformat_minor": 5
}
